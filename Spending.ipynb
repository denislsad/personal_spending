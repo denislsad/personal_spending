{
 "cells": [
  {
   "attachments": {},
   "cell_type": "markdown",
   "id": "f1bbe15e",
   "metadata": {},
   "source": [
    "# Intro\n",
    "Here I take a look at the way I spend money and draw some insights from it. It could help me handle my finances in a more meaningful way.<br>\n",
    "\n",
    "### Data\n",
    "\n",
    "The data is taken from my personal expenses accounting. I've been manually adding values to a Google Sheets table after every purchase from July 30 to September 27, 2022. <br>\n",
    "\n",
    "It is divided into three types of spending: `meals` (what I bought for lunches and dinners), `other` (some other necessary spending), and `extra` (all non-essential stuff such as coffee or desserts). \n",
    "After every week in the Date column, there are `Spent/Avg` and `Rest/Error` rows which show the sum and average of money spent by week and how much money is rest from what's been allocated for a time period + how much money is missing from the calculations.<br>\n",
    "\n",
    "I deliberately kept this table in a way that's more convenient for the Excel format, not for Python (the only assumption is that I didn't start addition with the equal sign). Because of that, it requires a lot of pre-processing before it could be suited for data analysis with pandas.\n"
   ]
  },
  {
   "attachments": {},
   "cell_type": "markdown",
   "id": "e726dac1",
   "metadata": {},
   "source": [
    "### Steps\n"
   ]
  },
  {
   "attachments": {},
   "cell_type": "markdown",
   "id": "717d4617",
   "metadata": {},
   "source": [
    "In this project I will:\n",
    "1. Clean the data.\n",
    "1. Summarize my spending for two months.\n",
    "2. Question: Which items did I spend the most on?\n",
    "3. Question: How do the three categories (Meals, Other, Extra) differ?\n",
    "4. Break down the Extra category and compare it to the other two."
   ]
  },
  {
   "cell_type": "markdown",
   "id": "64de6ff0",
   "metadata": {},
   "source": [
    "# Explore Data"
   ]
  },
  {
   "cell_type": "markdown",
   "id": "62a665d3",
   "metadata": {},
   "source": [
    "Import libraries and load the data sets"
   ]
  },
  {
   "cell_type": "code",
   "execution_count": 1,
   "id": "86d253f2",
   "metadata": {},
   "outputs": [],
   "source": [
    "import pandas as pd\n",
    "import numpy as np\n",
    "import re\n",
    "import matplotlib.pyplot as plt\n",
    "import seaborn as sns\n",
    "import scipy.stats as stats"
   ]
  },
  {
   "cell_type": "code",
   "execution_count": 2,
   "id": "45d5a04a",
   "metadata": {},
   "outputs": [],
   "source": [
    "detailed = pd.read_excel('spending.xlsx', sheet_name='Spent (Apr 1 - Sep 23) +', header=0, skiprows=lambda x: x in range(1, 139))"
   ]
  },
  {
   "cell_type": "code",
   "execution_count": 6,
   "id": "9a3e287b",
   "metadata": {
    "scrolled": true
   },
   "outputs": [
    {
     "data": {
      "text/html": [
       "<div>\n",
       "<style scoped>\n",
       "    .dataframe tbody tr th:only-of-type {\n",
       "        vertical-align: middle;\n",
       "    }\n",
       "\n",
       "    .dataframe tbody tr th {\n",
       "        vertical-align: top;\n",
       "    }\n",
       "\n",
       "    .dataframe thead th {\n",
       "        text-align: right;\n",
       "    }\n",
       "</style>\n",
       "<table border=\"1\" class=\"dataframe\">\n",
       "  <thead>\n",
       "    <tr style=\"text-align: right;\">\n",
       "      <th></th>\n",
       "      <th>Date</th>\n",
       "      <th>Out</th>\n",
       "      <th>-</th>\n",
       "      <th>+</th>\n",
       "      <th>Main Meals</th>\n",
       "      <th>Est. Price</th>\n",
       "      <th>Total Price</th>\n",
       "      <th>Other</th>\n",
       "      <th>Est. Price.1</th>\n",
       "      <th>Total Price.1</th>\n",
       "      <th>Extra</th>\n",
       "      <th>Est. Price.2</th>\n",
       "      <th>Total Price.2</th>\n",
       "    </tr>\n",
       "  </thead>\n",
       "  <tbody>\n",
       "    <tr>\n",
       "      <th>0</th>\n",
       "      <td>2022-07-30 00:00:00</td>\n",
       "      <td>30.0</td>\n",
       "      <td>NaN</td>\n",
       "      <td>NaN</td>\n",
       "      <td>Bread, Milk, Paper, Coffee, Butter, Chocolate</td>\n",
       "      <td>1100.0</td>\n",
       "      <td>30+60+250+630+170+138</td>\n",
       "      <td>Napkins</td>\n",
       "      <td>30.0</td>\n",
       "      <td>30</td>\n",
       "      <td>Junk food</td>\n",
       "      <td>0.0</td>\n",
       "      <td>300</td>\n",
       "    </tr>\n",
       "    <tr>\n",
       "      <th>1</th>\n",
       "      <td>2022-07-31 00:00:00</td>\n",
       "      <td>245.0</td>\n",
       "      <td>NaN</td>\n",
       "      <td>NaN</td>\n",
       "      <td>Yogurt, Bread</td>\n",
       "      <td>200.0</td>\n",
       "      <td>98+76</td>\n",
       "      <td>Toothpaste</td>\n",
       "      <td>250.0</td>\n",
       "      <td>245</td>\n",
       "      <td>-</td>\n",
       "      <td>0.0</td>\n",
       "      <td>0</td>\n",
       "    </tr>\n",
       "    <tr>\n",
       "      <th>2</th>\n",
       "      <td>2022-08-01 00:00:00</td>\n",
       "      <td>NaN</td>\n",
       "      <td>NaN</td>\n",
       "      <td>NaN</td>\n",
       "      <td>Pasta, tomatoes, mushrooms, spinach, cheese</td>\n",
       "      <td>635.0</td>\n",
       "      <td>80+100+96+155+204</td>\n",
       "      <td>Eggs, Crispbread, Bread</td>\n",
       "      <td>352.0</td>\n",
       "      <td>145+76+76+16</td>\n",
       "      <td>Coffee with cherry pies</td>\n",
       "      <td>1000.0</td>\n",
       "      <td>890</td>\n",
       "    </tr>\n",
       "    <tr>\n",
       "      <th>3</th>\n",
       "      <td>2022-08-02 00:00:00</td>\n",
       "      <td>NaN</td>\n",
       "      <td>NaN</td>\n",
       "      <td>NaN</td>\n",
       "      <td>Beans, quinoa</td>\n",
       "      <td>150.0</td>\n",
       "      <td>40+90</td>\n",
       "      <td>Syrnyky, Milk, Tea, Apples</td>\n",
       "      <td>300.0</td>\n",
       "      <td>82 + 80 + 45 + 43</td>\n",
       "      <td>-</td>\n",
       "      <td>0.0</td>\n",
       "      <td>0</td>\n",
       "    </tr>\n",
       "    <tr>\n",
       "      <th>4</th>\n",
       "      <td>2022-08-03 00:00:00</td>\n",
       "      <td>NaN</td>\n",
       "      <td>7.0</td>\n",
       "      <td>NaN</td>\n",
       "      <td>Pizza</td>\n",
       "      <td>600.0</td>\n",
       "      <td>295</td>\n",
       "      <td>Train tickets, Fare</td>\n",
       "      <td>2000.0</td>\n",
       "      <td>1748+680</td>\n",
       "      <td>-</td>\n",
       "      <td>0.0</td>\n",
       "      <td>0</td>\n",
       "    </tr>\n",
       "  </tbody>\n",
       "</table>\n",
       "</div>"
      ],
      "text/plain": [
       "                  Date    Out    -   +  \\\n",
       "0  2022-07-30 00:00:00   30.0  NaN NaN   \n",
       "1  2022-07-31 00:00:00  245.0  NaN NaN   \n",
       "2  2022-08-01 00:00:00    NaN  NaN NaN   \n",
       "3  2022-08-02 00:00:00    NaN  NaN NaN   \n",
       "4  2022-08-03 00:00:00    NaN  7.0 NaN   \n",
       "\n",
       "                                      Main Meals  Est. Price  \\\n",
       "0  Bread, Milk, Paper, Coffee, Butter, Chocolate      1100.0   \n",
       "1                                  Yogurt, Bread       200.0   \n",
       "2    Pasta, tomatoes, mushrooms, spinach, cheese       635.0   \n",
       "3                                  Beans, quinoa       150.0   \n",
       "4                                          Pizza       600.0   \n",
       "\n",
       "             Total Price                       Other  Est. Price.1  \\\n",
       "0  30+60+250+630+170+138                     Napkins          30.0   \n",
       "1                  98+76                  Toothpaste         250.0   \n",
       "2      80+100+96+155+204     Eggs, Crispbread, Bread         352.0   \n",
       "3                  40+90  Syrnyky, Milk, Tea, Apples         300.0   \n",
       "4                    295         Train tickets, Fare        2000.0   \n",
       "\n",
       "       Total Price.1                    Extra  Est. Price.2 Total Price.2  \n",
       "0                 30                Junk food           0.0           300  \n",
       "1                245                        -           0.0             0  \n",
       "2       145+76+76+16  Coffee with cherry pies        1000.0           890  \n",
       "3  82 + 80 + 45 + 43                        -           0.0             0  \n",
       "4           1748+680                        -           0.0             0  "
      ]
     },
     "execution_count": 6,
     "metadata": {},
     "output_type": "execute_result"
    }
   ],
   "source": [
    "detailed.head()"
   ]
  },
  {
   "cell_type": "code",
   "execution_count": 7,
   "id": "e7c6bc7d",
   "metadata": {},
   "outputs": [
    {
     "data": {
      "text/plain": [
       "(78, 13)"
      ]
     },
     "execution_count": 7,
     "metadata": {},
     "output_type": "execute_result"
    }
   ],
   "source": [
    "detailed.shape"
   ]
  },
  {
   "cell_type": "code",
   "execution_count": 8,
   "id": "7140a8d7",
   "metadata": {
    "scrolled": false
   },
   "outputs": [
    {
     "data": {
      "text/plain": [
       "Date              object\n",
       "Out              float64\n",
       "-                float64\n",
       "+                float64\n",
       "Main Meals        object\n",
       "Est. Price       float64\n",
       "Total Price       object\n",
       "Other             object\n",
       "Est. Price.1     float64\n",
       "Total Price.1     object\n",
       "Extra             object\n",
       "Est. Price.2     float64\n",
       "Total Price.2     object\n",
       "dtype: object"
      ]
     },
     "execution_count": 8,
     "metadata": {},
     "output_type": "execute_result"
    }
   ],
   "source": [
    "detailed.dtypes"
   ]
  },
  {
   "cell_type": "code",
   "execution_count": 9,
   "id": "c8c85bc3",
   "metadata": {},
   "outputs": [
    {
     "data": {
      "text/plain": [
       "(datetime.datetime(2022, 7, 30, 0, 0), datetime.datetime(2022, 9, 27, 0, 0))"
      ]
     },
     "execution_count": 9,
     "metadata": {},
     "output_type": "execute_result"
    }
   ],
   "source": [
    "detailed['Date'].iloc[0], detailed['Date'].iloc[-3]"
   ]
  },
  {
   "cell_type": "markdown",
   "id": "fe11af07",
   "metadata": {},
   "source": [
    "DataFrame spans the period from July 30 to September 27, 2022. The data types are mostly correct, but because the `Date` column contains datetime and string values it is read as the 'object' dtype. <br>\n",
    "About half of the columns make sense within the analysis in Excel, but for the purposes of this project, they need to be removed."
   ]
  },
  {
   "cell_type": "markdown",
   "id": "8cfa5fd7",
   "metadata": {},
   "source": [
    "# Process Data"
   ]
  },
  {
   "cell_type": "markdown",
   "id": "4a77387f",
   "metadata": {},
   "source": [
    "#### Clean the DataFrame"
   ]
  },
  {
   "cell_type": "code",
   "execution_count": 15,
   "id": "bd216b80",
   "metadata": {},
   "outputs": [
    {
     "data": {
      "text/plain": [
       "Index(['Date', 'Out', '-', '+', 'Main Meals', 'Est. Price', 'Total Price',\n",
       "       'Other', 'Est. Price.1', 'Total Price.1', 'Extra', 'Est. Price.2',\n",
       "       'Total Price.2'],\n",
       "      dtype='object')"
      ]
     },
     "execution_count": 15,
     "metadata": {},
     "output_type": "execute_result"
    }
   ],
   "source": [
    "detailed.columns"
   ]
  },
  {
   "cell_type": "code",
   "execution_count": 16,
   "id": "b763cec2",
   "metadata": {},
   "outputs": [],
   "source": [
    "# Remove unnecessary columns\n",
    "detailed = detailed.drop(columns=['Out', '-', '+', 'Est. Price', 'Est. Price.1', 'Est. Price.2'])"
   ]
  },
  {
   "cell_type": "code",
   "execution_count": 17,
   "id": "90d5b390",
   "metadata": {},
   "outputs": [],
   "source": [
    "# Drop weekly aggregates\n",
    "not_dates = detailed.loc[(detailed['Date'] == 'Spent / Avg') | (detailed['Date'] == 'Rest / Error')]\n",
    "detailed = detailed.drop(index=not_dates.index)"
   ]
  },
  {
   "cell_type": "markdown",
   "id": "ad4d99df",
   "metadata": {},
   "source": [
    "#### Reshape the DataFrame\n",
    "Involves a few steps:\n",
    "1. Find mismatches in the price and items columns (when there are more / fewer items than prices) and fix that.\n",
    "2. Break the original table into prices and items tables by unpivoting. Desired output:\n",
    "\n",
    "3. Split each column by its delimiter with the help of multi-indexing and the stack() method to create the desired table after splitting the columns.\n",
    "\n",
    "4. Merge new tables back.\n",
    "\n",
    "+ Create a function for step 3 for best performance."
   ]
  },
  {
   "cell_type": "markdown",
   "id": "fae357ae",
   "metadata": {},
   "source": [
    "<b>Step 1</b>. After running the total_df_reshape function, provided below, it was found, that the number of rows in the category and price DataFrames are unequal. There are 473 prices and 466 items. A possible reason is there some prices were put into the original Excel table without an item purchased.<br>\n",
    "To fix that, iterate through the detailed table and count the number of items and prices in each row. If there's a discrepancy, print the index of this row, so we could check a possible left out."
   ]
  },
  {
   "cell_type": "code",
   "execution_count": 18,
   "id": "3aba9015",
   "metadata": {},
   "outputs": [],
   "source": [
    "# Function which iterates through each column, counts items / prices and tells if they're unequal\n",
    "def find_mismatch_ind(col_item, col_price, delimiter_item = ',', delimiter_price = '+'):\n",
    "    count_items = 1\n",
    "    count_prices = 1\n",
    "    \n",
    "    for i in str(row[col_item]):\n",
    "        if i == delimiter_item:\n",
    "            count_items += 1\n",
    "            \n",
    "    for p in str(row[col_price]):\n",
    "        if p == delimiter_price:\n",
    "            count_prices += 1  \n",
    "            \n",
    "    if count_items != count_prices:\n",
    "        print(f'Row {ind}, {col_item} – {count_items} items and {count_prices} prices!')\n",
    "        ind_list.append(ind)"
   ]
  },
  {
   "cell_type": "code",
   "execution_count": 19,
   "id": "bc8b7323",
   "metadata": {},
   "outputs": [
    {
     "name": "stdout",
     "output_type": "stream",
     "text": [
      "Row 2, Other – 3 items and 4 prices!\n",
      "Row 6, Other – 4 items and 5 prices!\n",
      "Row 6, Extra – 4 items and 1 prices!\n",
      "Row 13, Other – 3 items and 4 prices!\n",
      "Row 22, Extra – 3 items and 5 prices!\n",
      "Row 49, Main Meals – 2 items and 1 prices!\n",
      "Row 49, Other – 2 items and 3 prices!\n",
      "Row 50, Other – 7 items and 8 prices!\n",
      "Row 56, Main Meals – 1 items and 3 prices!\n",
      "Row 56, Other – 2 items and 3 prices!\n",
      "Row 59, Other – 2 items and 3 prices!\n",
      "Row 59, Extra – 4 items and 5 prices!\n",
      "Row 68, Other – 3 items and 2 prices!\n"
     ]
    }
   ],
   "source": [
    "# It's possible to iterate through the column list without typing the names of the columns manually.\n",
    "# But I consider it as unnecessary overcomplication.\n",
    "ind_list = []\n",
    "for ind, row in detailed.iterrows():\n",
    "    find_mismatch_ind('Main Meals', 'Total Price')\n",
    "    find_mismatch_ind('Other', 'Total Price.1')\n",
    "    find_mismatch_ind('Extra', 'Total Price.2')"
   ]
  },
  {
   "cell_type": "code",
   "execution_count": 20,
   "id": "78e5744a",
   "metadata": {},
   "outputs": [
    {
     "data": {
      "text/plain": [
       "Date                                           2022-09-08 00:00:00\n",
       "Main Meals                      Potato, mussels, green bean, bread\n",
       "Total Price                                          94+359+105+43\n",
       "Other            Napkins, fruit, oranges, pads, choc, butter, b...\n",
       "Total Price.1                         140+96+119+140+180+80+150+56\n",
       "Extra                                                 Coffee, cake\n",
       "Total Price.2                                              280+210\n",
       "Name: 50, dtype: object"
      ]
     },
     "execution_count": 20,
     "metadata": {},
     "output_type": "execute_result"
    }
   ],
   "source": [
    "detailed.loc[50]"
   ]
  },
  {
   "cell_type": "code",
   "execution_count": 21,
   "id": "cd02cc65",
   "metadata": {
    "scrolled": true
   },
   "outputs": [
    {
     "data": {
      "text/html": [
       "<div>\n",
       "<style scoped>\n",
       "    .dataframe tbody tr th:only-of-type {\n",
       "        vertical-align: middle;\n",
       "    }\n",
       "\n",
       "    .dataframe tbody tr th {\n",
       "        vertical-align: top;\n",
       "    }\n",
       "\n",
       "    .dataframe thead th {\n",
       "        text-align: right;\n",
       "    }\n",
       "</style>\n",
       "<table border=\"1\" class=\"dataframe\">\n",
       "  <thead>\n",
       "    <tr style=\"text-align: right;\">\n",
       "      <th></th>\n",
       "      <th>Date</th>\n",
       "      <th>Main Meals</th>\n",
       "      <th>Total Price</th>\n",
       "      <th>Other</th>\n",
       "      <th>Total Price.1</th>\n",
       "      <th>Extra</th>\n",
       "      <th>Total Price.2</th>\n",
       "    </tr>\n",
       "  </thead>\n",
       "  <tbody>\n",
       "    <tr>\n",
       "      <th>2</th>\n",
       "      <td>2022-08-01 00:00:00</td>\n",
       "      <td>Pasta, tomatoes, mushrooms, spinach, cheese</td>\n",
       "      <td>80+100+96+155+204</td>\n",
       "      <td>Eggs, Crispbread, Bread</td>\n",
       "      <td>145+76+76+16</td>\n",
       "      <td>Coffee with cherry pies</td>\n",
       "      <td>890</td>\n",
       "    </tr>\n",
       "    <tr>\n",
       "      <th>6</th>\n",
       "      <td>2022-08-05 00:00:00</td>\n",
       "      <td>Mash, broccoli, soy meatballs</td>\n",
       "      <td>62+155+274</td>\n",
       "      <td>Crispbread, Tomatoes, Cucumbers, Pepper</td>\n",
       "      <td>76+80+51+26+8</td>\n",
       "      <td>Almond, bananas, peaches, yogurt</td>\n",
       "      <td>527</td>\n",
       "    </tr>\n",
       "    <tr>\n",
       "      <th>6</th>\n",
       "      <td>2022-08-05 00:00:00</td>\n",
       "      <td>Mash, broccoli, soy meatballs</td>\n",
       "      <td>62+155+274</td>\n",
       "      <td>Crispbread, Tomatoes, Cucumbers, Pepper</td>\n",
       "      <td>76+80+51+26+8</td>\n",
       "      <td>Almond, bananas, peaches, yogurt</td>\n",
       "      <td>527</td>\n",
       "    </tr>\n",
       "    <tr>\n",
       "      <th>13</th>\n",
       "      <td>2022-08-10 00:00:00</td>\n",
       "      <td>Wok, chickpeas</td>\n",
       "      <td>350+134</td>\n",
       "      <td>Coffee; banana, milk, bread</td>\n",
       "      <td>640+80+73+36</td>\n",
       "      <td>Lichen</td>\n",
       "      <td>250</td>\n",
       "    </tr>\n",
       "    <tr>\n",
       "      <th>22</th>\n",
       "      <td>2022-08-17 00:00:00</td>\n",
       "      <td>-</td>\n",
       "      <td>0</td>\n",
       "      <td>Bananas, butter, eggs, spice, flour, Nutella</td>\n",
       "      <td>65+150+110+31+80+380</td>\n",
       "      <td>Gum, taxis, beer</td>\n",
       "      <td>30+221+65+287+147</td>\n",
       "    </tr>\n",
       "    <tr>\n",
       "      <th>49</th>\n",
       "      <td>2022-09-07 00:00:00</td>\n",
       "      <td>Cucumbers, cola</td>\n",
       "      <td>260</td>\n",
       "      <td>Breakfast, coffee; fare</td>\n",
       "      <td>350+440+180</td>\n",
       "      <td>-</td>\n",
       "      <td>0</td>\n",
       "    </tr>\n",
       "    <tr>\n",
       "      <th>49</th>\n",
       "      <td>2022-09-07 00:00:00</td>\n",
       "      <td>Cucumbers, cola</td>\n",
       "      <td>260</td>\n",
       "      <td>Breakfast, coffee; fare</td>\n",
       "      <td>350+440+180</td>\n",
       "      <td>-</td>\n",
       "      <td>0</td>\n",
       "    </tr>\n",
       "    <tr>\n",
       "      <th>50</th>\n",
       "      <td>2022-09-08 00:00:00</td>\n",
       "      <td>Potato, mussels, green bean, bread</td>\n",
       "      <td>94+359+105+43</td>\n",
       "      <td>Napkins, fruit, oranges, pads, choc, butter, b...</td>\n",
       "      <td>140+96+119+140+180+80+150+56</td>\n",
       "      <td>Coffee, cake</td>\n",
       "      <td>280+210</td>\n",
       "    </tr>\n",
       "    <tr>\n",
       "      <th>56</th>\n",
       "      <td>2022-09-12 00:00:00</td>\n",
       "      <td>Burrito</td>\n",
       "      <td>210+250+200</td>\n",
       "      <td>Fare, bread</td>\n",
       "      <td>180+48+160</td>\n",
       "      <td>-</td>\n",
       "      <td>0</td>\n",
       "    </tr>\n",
       "    <tr>\n",
       "      <th>56</th>\n",
       "      <td>2022-09-12 00:00:00</td>\n",
       "      <td>Burrito</td>\n",
       "      <td>210+250+200</td>\n",
       "      <td>Fare, bread</td>\n",
       "      <td>180+48+160</td>\n",
       "      <td>-</td>\n",
       "      <td>0</td>\n",
       "    </tr>\n",
       "    <tr>\n",
       "      <th>59</th>\n",
       "      <td>2022-09-15 00:00:00</td>\n",
       "      <td>Lunch</td>\n",
       "      <td>284</td>\n",
       "      <td>Coffee, cake; fare</td>\n",
       "      <td>140+170+350</td>\n",
       "      <td>Museum, cake; rolls, yogurt, juice</td>\n",
       "      <td>0+190+180+105+126</td>\n",
       "    </tr>\n",
       "    <tr>\n",
       "      <th>59</th>\n",
       "      <td>2022-09-15 00:00:00</td>\n",
       "      <td>Lunch</td>\n",
       "      <td>284</td>\n",
       "      <td>Coffee, cake; fare</td>\n",
       "      <td>140+170+350</td>\n",
       "      <td>Museum, cake; rolls, yogurt, juice</td>\n",
       "      <td>0+190+180+105+126</td>\n",
       "    </tr>\n",
       "    <tr>\n",
       "      <th>68</th>\n",
       "      <td>2022-09-22 00:00:00</td>\n",
       "      <td>-</td>\n",
       "      <td>0</td>\n",
       "      <td>Pills, taxi, fare</td>\n",
       "      <td>361+310</td>\n",
       "      <td>-</td>\n",
       "      <td>0</td>\n",
       "    </tr>\n",
       "  </tbody>\n",
       "</table>\n",
       "</div>"
      ],
      "text/plain": [
       "                   Date                                   Main Meals  \\\n",
       "2   2022-08-01 00:00:00  Pasta, tomatoes, mushrooms, spinach, cheese   \n",
       "6   2022-08-05 00:00:00                Mash, broccoli, soy meatballs   \n",
       "6   2022-08-05 00:00:00                Mash, broccoli, soy meatballs   \n",
       "13  2022-08-10 00:00:00                               Wok, chickpeas   \n",
       "22  2022-08-17 00:00:00                                            -   \n",
       "49  2022-09-07 00:00:00                              Cucumbers, cola   \n",
       "49  2022-09-07 00:00:00                              Cucumbers, cola   \n",
       "50  2022-09-08 00:00:00           Potato, mussels, green bean, bread   \n",
       "56  2022-09-12 00:00:00                                      Burrito   \n",
       "56  2022-09-12 00:00:00                                      Burrito   \n",
       "59  2022-09-15 00:00:00                                        Lunch   \n",
       "59  2022-09-15 00:00:00                                        Lunch   \n",
       "68  2022-09-22 00:00:00                                            -   \n",
       "\n",
       "          Total Price                                              Other  \\\n",
       "2   80+100+96+155+204                            Eggs, Crispbread, Bread   \n",
       "6          62+155+274            Crispbread, Tomatoes, Cucumbers, Pepper   \n",
       "6          62+155+274            Crispbread, Tomatoes, Cucumbers, Pepper   \n",
       "13            350+134                        Coffee; banana, milk, bread   \n",
       "22                  0       Bananas, butter, eggs, spice, flour, Nutella   \n",
       "49                260                            Breakfast, coffee; fare   \n",
       "49                260                            Breakfast, coffee; fare   \n",
       "50      94+359+105+43  Napkins, fruit, oranges, pads, choc, butter, b...   \n",
       "56        210+250+200                                        Fare, bread   \n",
       "56        210+250+200                                        Fare, bread   \n",
       "59                284                                 Coffee, cake; fare   \n",
       "59                284                                 Coffee, cake; fare   \n",
       "68                  0                                  Pills, taxi, fare   \n",
       "\n",
       "                   Total Price.1                               Extra  \\\n",
       "2                   145+76+76+16             Coffee with cherry pies   \n",
       "6                  76+80+51+26+8    Almond, bananas, peaches, yogurt   \n",
       "6                  76+80+51+26+8    Almond, bananas, peaches, yogurt   \n",
       "13                  640+80+73+36                              Lichen   \n",
       "22          65+150+110+31+80+380                    Gum, taxis, beer   \n",
       "49                   350+440+180                                   -   \n",
       "49                   350+440+180                                   -   \n",
       "50  140+96+119+140+180+80+150+56                        Coffee, cake   \n",
       "56                    180+48+160                                   -   \n",
       "56                    180+48+160                                   -   \n",
       "59                   140+170+350  Museum, cake; rolls, yogurt, juice   \n",
       "59                   140+170+350  Museum, cake; rolls, yogurt, juice   \n",
       "68                       361+310                                   -   \n",
       "\n",
       "        Total Price.2  \n",
       "2                 890  \n",
       "6                 527  \n",
       "6                 527  \n",
       "13                250  \n",
       "22  30+221+65+287+147  \n",
       "49                  0  \n",
       "49                  0  \n",
       "50            280+210  \n",
       "56                  0  \n",
       "56                  0  \n",
       "59  0+190+180+105+126  \n",
       "59  0+190+180+105+126  \n",
       "68                  0  "
      ]
     },
     "execution_count": 21,
     "metadata": {},
     "output_type": "execute_result"
    }
   ],
   "source": [
    "# Take a closer look at these rows\n",
    "detailed.loc[ind_list]"
   ]
  },
  {
   "cell_type": "code",
   "execution_count": 22,
   "id": "843f2160",
   "metadata": {},
   "outputs": [],
   "source": [
    "# Change or delete a row, based on situaition\n",
    "detailed.loc[2, 'Total Price.1'] = '145+76+76'\n",
    "detailed.loc[6, 'Total Price.1'] = '76+80+51+26'\n",
    "detailed.loc[6, 'Total Price.2'] = '209+65+113+140'\n",
    "detailed.loc[6, 'Total Price.2'] = '209+65+113+140'\n",
    "detailed.loc[13, 'Other'] = detailed.loc[13, 'Other'].replace(';', ',')\n",
    "detailed.loc[22, 'Total Price.2'] = '30+573+147'\n",
    "detailed.loc[49, 'Total Price'] = '90+170'\n",
    "detailed.loc[49, 'Other'] = detailed.loc[49, 'Other'].replace(';', ',')\n",
    "detailed.loc[50, 'Total Price.1'] = '140+96+119+140+260+150+56'\n",
    "detailed.loc[56, 'Total Price'] = '660'\n",
    "detailed.loc[56, 'Total Price.1'] = '340+48'\n",
    "detailed.loc[59, 'Other'] = detailed.loc[59, 'Other'].replace(';', ',')\n",
    "detailed.loc[59, 'Extra'] = detailed.loc[59, 'Extra'].replace(';', ',')\n",
    "detailed.loc[68, 'Total Price.1'] = '361+130+180'"
   ]
  },
  {
   "cell_type": "markdown",
   "id": "d5fbf7d2",
   "metadata": {},
   "source": [
    "<b>Step 2</b>. Reshape the table"
   ]
  },
  {
   "cell_type": "code",
   "execution_count": 23,
   "id": "fe656ccd",
   "metadata": {},
   "outputs": [],
   "source": [
    "detailed_cat = pd.melt(frame=detailed, id_vars = 'Date', value_vars=[\"Main Meals\",\"Other\", \"Extra\"], value_name=\"Item\", var_name=\"Category\")\n",
    "detailed_price = pd.melt(frame=detailed, id_vars = 'Date', value_vars=[\"Total Price\",\"Total Price.1\", \"Total Price.2\"], value_name=\"Price\", var_name=\"Which Price\")"
   ]
  },
  {
   "cell_type": "markdown",
   "id": "a621252a",
   "metadata": {},
   "source": [
    "<b>Step 3</b>. Split the items and the summed spending."
   ]
  },
  {
   "cell_type": "code",
   "execution_count": 24,
   "id": "5161fd4a",
   "metadata": {
    "scrolled": true
   },
   "outputs": [],
   "source": [
    "def total_df_reshape(df, col, delimiter):\n",
    "# Create new DF with stacked values\n",
    "\n",
    "    # But first, treat the plus delimeters differently as a value with no plus is skipped without a lambda\n",
    "    if delimiter == '+':\n",
    "        s = df[col].apply(lambda x: x.split(delimiter) if delimiter in str(x) else x).apply(pd.Series).stack()\n",
    "    else:\n",
    "        s = df[col].str.title().str.split(delimiter).apply(pd.Series).stack()\n",
    "    s.name = col\n",
    "    s = pd.DataFrame(s)\n",
    "    del df[col]\n",
    "\n",
    "    # Merge two DFs by first index of s\n",
    "    indices = s.index.get_level_values(0)\n",
    "    s[detailed_cat.columns[0:2]] = detailed_cat.loc[indices].values\n",
    "\n",
    "    # Rearrange the columns\n",
    "    s_cols = list(s.columns)\n",
    "    s = s[s_cols[1:2] + s_cols[0:1] + s_cols[2:3]]\n",
    "    return s.reset_index(drop=True)\n",
    "\n",
    "new_detailed_cat = total_df_reshape(detailed_cat, 'Item', ', ')\n",
    "new_detailed_price = total_df_reshape(detailed_price, 'Price', '+')\n",
    "# del new_detailed_price['Category']"
   ]
  },
  {
   "cell_type": "code",
   "execution_count": 25,
   "id": "217e17ad",
   "metadata": {},
   "outputs": [
    {
     "data": {
      "text/plain": [
       "(470, 470)"
      ]
     },
     "execution_count": 25,
     "metadata": {},
     "output_type": "execute_result"
    }
   ],
   "source": [
    "len(new_detailed_price), len(new_detailed_cat)"
   ]
  },
  {
   "cell_type": "markdown",
   "id": "3b27e987",
   "metadata": {},
   "source": [
    "<b>Step 4</b>. Merge the table back."
   ]
  },
  {
   "cell_type": "code",
   "execution_count": 26,
   "id": "696ba5db",
   "metadata": {},
   "outputs": [],
   "source": [
    "# pd.merge(new_detailed_price, new_detailed_cat, left_index=True, right_index=True)\n",
    "detailed_new = new_detailed_cat.join(new_detailed_price, rsuffix='_')\n",
    "detailed_new = detailed_new.drop(columns=['Date_', 'Category_'])"
   ]
  },
  {
   "cell_type": "code",
   "execution_count": 27,
   "id": "66a1b66d",
   "metadata": {},
   "outputs": [
    {
     "data": {
      "text/plain": [
       "Date        datetime64[ns]\n",
       "Item                object\n",
       "Category            object\n",
       "Price               object\n",
       "dtype: object"
      ]
     },
     "execution_count": 27,
     "metadata": {},
     "output_type": "execute_result"
    }
   ],
   "source": [
    "# Check the date types\n",
    "detailed_new.dtypes"
   ]
  },
  {
   "cell_type": "code",
   "execution_count": 28,
   "id": "47ef833e",
   "metadata": {},
   "outputs": [],
   "source": [
    "# Change data types\n",
    "detailed_new['Price'] = detailed_new['Price'].astype('int')"
   ]
  },
  {
   "cell_type": "code",
   "execution_count": 29,
   "id": "fc5efd1f",
   "metadata": {
    "scrolled": true
   },
   "outputs": [
    {
     "data": {
      "text/html": [
       "<div>\n",
       "<style scoped>\n",
       "    .dataframe tbody tr th:only-of-type {\n",
       "        vertical-align: middle;\n",
       "    }\n",
       "\n",
       "    .dataframe tbody tr th {\n",
       "        vertical-align: top;\n",
       "    }\n",
       "\n",
       "    .dataframe thead th {\n",
       "        text-align: right;\n",
       "    }\n",
       "</style>\n",
       "<table border=\"1\" class=\"dataframe\">\n",
       "  <thead>\n",
       "    <tr style=\"text-align: right;\">\n",
       "      <th></th>\n",
       "      <th>Date</th>\n",
       "      <th>Item</th>\n",
       "      <th>Category</th>\n",
       "      <th>Price</th>\n",
       "    </tr>\n",
       "  </thead>\n",
       "  <tbody>\n",
       "    <tr>\n",
       "      <th>0</th>\n",
       "      <td>2022-07-30</td>\n",
       "      <td>Bread</td>\n",
       "      <td>Main Meals</td>\n",
       "      <td>30</td>\n",
       "    </tr>\n",
       "    <tr>\n",
       "      <th>1</th>\n",
       "      <td>2022-07-30</td>\n",
       "      <td>Milk</td>\n",
       "      <td>Main Meals</td>\n",
       "      <td>60</td>\n",
       "    </tr>\n",
       "    <tr>\n",
       "      <th>2</th>\n",
       "      <td>2022-07-30</td>\n",
       "      <td>Paper</td>\n",
       "      <td>Main Meals</td>\n",
       "      <td>250</td>\n",
       "    </tr>\n",
       "    <tr>\n",
       "      <th>3</th>\n",
       "      <td>2022-07-30</td>\n",
       "      <td>Coffee</td>\n",
       "      <td>Main Meals</td>\n",
       "      <td>630</td>\n",
       "    </tr>\n",
       "    <tr>\n",
       "      <th>4</th>\n",
       "      <td>2022-07-30</td>\n",
       "      <td>Butter</td>\n",
       "      <td>Main Meals</td>\n",
       "      <td>170</td>\n",
       "    </tr>\n",
       "    <tr>\n",
       "      <th>5</th>\n",
       "      <td>2022-07-30</td>\n",
       "      <td>Chocolate</td>\n",
       "      <td>Main Meals</td>\n",
       "      <td>138</td>\n",
       "    </tr>\n",
       "    <tr>\n",
       "      <th>6</th>\n",
       "      <td>2022-07-31</td>\n",
       "      <td>Yogurt</td>\n",
       "      <td>Main Meals</td>\n",
       "      <td>98</td>\n",
       "    </tr>\n",
       "    <tr>\n",
       "      <th>7</th>\n",
       "      <td>2022-07-31</td>\n",
       "      <td>Bread</td>\n",
       "      <td>Main Meals</td>\n",
       "      <td>76</td>\n",
       "    </tr>\n",
       "    <tr>\n",
       "      <th>8</th>\n",
       "      <td>2022-08-01</td>\n",
       "      <td>Pasta</td>\n",
       "      <td>Main Meals</td>\n",
       "      <td>80</td>\n",
       "    </tr>\n",
       "    <tr>\n",
       "      <th>9</th>\n",
       "      <td>2022-08-01</td>\n",
       "      <td>Tomatoes</td>\n",
       "      <td>Main Meals</td>\n",
       "      <td>100</td>\n",
       "    </tr>\n",
       "  </tbody>\n",
       "</table>\n",
       "</div>"
      ],
      "text/plain": [
       "        Date       Item    Category  Price\n",
       "0 2022-07-30      Bread  Main Meals     30\n",
       "1 2022-07-30       Milk  Main Meals     60\n",
       "2 2022-07-30      Paper  Main Meals    250\n",
       "3 2022-07-30     Coffee  Main Meals    630\n",
       "4 2022-07-30     Butter  Main Meals    170\n",
       "5 2022-07-30  Chocolate  Main Meals    138\n",
       "6 2022-07-31     Yogurt  Main Meals     98\n",
       "7 2022-07-31      Bread  Main Meals     76\n",
       "8 2022-08-01      Pasta  Main Meals     80\n",
       "9 2022-08-01   Tomatoes  Main Meals    100"
      ]
     },
     "execution_count": 29,
     "metadata": {},
     "output_type": "execute_result"
    }
   ],
   "source": [
    "# The final version of the dataset\n",
    "detailed_new.head(10)"
   ]
  },
  {
   "cell_type": "markdown",
   "id": "cfb308b8",
   "metadata": {},
   "source": [
    "# Analyze Data"
   ]
  },
  {
   "cell_type": "markdown",
   "id": "20a5e60d",
   "metadata": {},
   "source": [
    "#### Price statistics"
   ]
  },
  {
   "cell_type": "code",
   "execution_count": 30,
   "id": "5a8c775c",
   "metadata": {
    "scrolled": false
   },
   "outputs": [
    {
     "data": {
      "text/html": [
       "<div>\n",
       "<style scoped>\n",
       "    .dataframe tbody tr th:only-of-type {\n",
       "        vertical-align: middle;\n",
       "    }\n",
       "\n",
       "    .dataframe tbody tr th {\n",
       "        vertical-align: top;\n",
       "    }\n",
       "\n",
       "    .dataframe thead th {\n",
       "        text-align: right;\n",
       "    }\n",
       "</style>\n",
       "<table border=\"1\" class=\"dataframe\">\n",
       "  <thead>\n",
       "    <tr style=\"text-align: right;\">\n",
       "      <th></th>\n",
       "      <th>Price</th>\n",
       "    </tr>\n",
       "  </thead>\n",
       "  <tbody>\n",
       "    <tr>\n",
       "      <th>count</th>\n",
       "      <td>470.00000</td>\n",
       "    </tr>\n",
       "    <tr>\n",
       "      <th>mean</th>\n",
       "      <td>149.13617</td>\n",
       "    </tr>\n",
       "    <tr>\n",
       "      <th>std</th>\n",
       "      <td>181.24905</td>\n",
       "    </tr>\n",
       "    <tr>\n",
       "      <th>min</th>\n",
       "      <td>0.00000</td>\n",
       "    </tr>\n",
       "    <tr>\n",
       "      <th>25%</th>\n",
       "      <td>58.00000</td>\n",
       "    </tr>\n",
       "    <tr>\n",
       "      <th>50%</th>\n",
       "      <td>105.00000</td>\n",
       "    </tr>\n",
       "    <tr>\n",
       "      <th>75%</th>\n",
       "      <td>170.75000</td>\n",
       "    </tr>\n",
       "    <tr>\n",
       "      <th>max</th>\n",
       "      <td>1748.00000</td>\n",
       "    </tr>\n",
       "  </tbody>\n",
       "</table>\n",
       "</div>"
      ],
      "text/plain": [
       "            Price\n",
       "count   470.00000\n",
       "mean    149.13617\n",
       "std     181.24905\n",
       "min       0.00000\n",
       "25%      58.00000\n",
       "50%     105.00000\n",
       "75%     170.75000\n",
       "max    1748.00000"
      ]
     },
     "execution_count": 30,
     "metadata": {},
     "output_type": "execute_result"
    }
   ],
   "source": [
    "detailed_new.describe()"
   ]
  },
  {
   "cell_type": "code",
   "execution_count": 31,
   "id": "a27debaf",
   "metadata": {
    "scrolled": true
   },
   "outputs": [
    {
     "data": {
      "image/png": "[encoded data removed]",
      "text/plain": [
       "<Figure size 432x288 with 1 Axes>"
      ]
     },
     "metadata": {
      "needs_background": "light"
     },
     "output_type": "display_data"
    }
   ],
   "source": [
    "sns.boxplot(data=detailed_new, x='Price', showfliers=False)\n",
    "plt.show()"
   ]
  },
  {
   "cell_type": "markdown",
   "id": "048da464",
   "metadata": {},
   "source": [
    "#### Item statistics"
   ]
  },
  {
   "cell_type": "code",
   "execution_count": 32,
   "id": "8d579661",
   "metadata": {},
   "outputs": [
    {
     "data": {
      "text/plain": [
       "155"
      ]
     },
     "execution_count": 32,
     "metadata": {},
     "output_type": "execute_result"
    }
   ],
   "source": [
    "detailed_new.Item.nunique()"
   ]
  },
  {
   "cell_type": "code",
   "execution_count": 33,
   "id": "bafe73f6",
   "metadata": {
    "scrolled": true
   },
   "outputs": [
    {
     "data": {
      "text/html": [
       "<div>\n",
       "<style scoped>\n",
       "    .dataframe tbody tr th:only-of-type {\n",
       "        vertical-align: middle;\n",
       "    }\n",
       "\n",
       "    .dataframe tbody tr th {\n",
       "        vertical-align: top;\n",
       "    }\n",
       "\n",
       "    .dataframe thead th {\n",
       "        text-align: right;\n",
       "    }\n",
       "</style>\n",
       "<table border=\"1\" class=\"dataframe\">\n",
       "  <thead>\n",
       "    <tr style=\"text-align: right;\">\n",
       "      <th></th>\n",
       "      <th>Total Price</th>\n",
       "      <th>Amount</th>\n",
       "      <th>Average Price</th>\n",
       "    </tr>\n",
       "    <tr>\n",
       "      <th>Item</th>\n",
       "      <th></th>\n",
       "      <th></th>\n",
       "      <th></th>\n",
       "    </tr>\n",
       "  </thead>\n",
       "  <tbody>\n",
       "    <tr>\n",
       "      <th>Coffee</th>\n",
       "      <td>7139</td>\n",
       "      <td>22</td>\n",
       "      <td>324.50</td>\n",
       "    </tr>\n",
       "    <tr>\n",
       "      <th>Fare</th>\n",
       "      <td>2800</td>\n",
       "      <td>17</td>\n",
       "      <td>164.71</td>\n",
       "    </tr>\n",
       "    <tr>\n",
       "      <th>Cake</th>\n",
       "      <td>2586</td>\n",
       "      <td>14</td>\n",
       "      <td>184.71</td>\n",
       "    </tr>\n",
       "    <tr>\n",
       "      <th>Taxi</th>\n",
       "      <td>2407</td>\n",
       "      <td>5</td>\n",
       "      <td>481.40</td>\n",
       "    </tr>\n",
       "    <tr>\n",
       "      <th>Cafe</th>\n",
       "      <td>2300</td>\n",
       "      <td>2</td>\n",
       "      <td>1150.00</td>\n",
       "    </tr>\n",
       "  </tbody>\n",
       "</table>\n",
       "</div>"
      ],
      "text/plain": [
       "        Total Price  Amount  Average Price\n",
       "Item                                      \n",
       "Coffee         7139      22         324.50\n",
       "Fare           2800      17         164.71\n",
       "Cake           2586      14         184.71\n",
       "Taxi           2407       5         481.40\n",
       "Cafe           2300       2        1150.00"
      ]
     },
     "execution_count": 33,
     "metadata": {},
     "output_type": "execute_result"
    }
   ],
   "source": [
    "items_summed = detailed_new.groupby('Item').agg({'Price': 'sum', 'Item': 'count'})\n",
    "items_summed = items_summed.rename(columns={'Price': 'Total Price', 'Item': 'Amount'})\n",
    "items_summed['Average Price'] = round(items_summed['Total Price'] / items_summed['Amount'], 2)\n",
    "items_summed = items_summed.sort_values(by='Total Price', ascending=False)\n",
    "\n",
    "# Top-5 items which I spent the most money\n",
    "items_summed.head()"
   ]
  },
  {
   "cell_type": "markdown",
   "id": "19d2b08f",
   "metadata": {},
   "source": [
    "#### Categories comparison"
   ]
  },
  {
   "cell_type": "code",
   "execution_count": 34,
   "id": "8e68269e",
   "metadata": {},
   "outputs": [
    {
     "data": {
      "text/html": [
       "<div>\n",
       "<style scoped>\n",
       "    .dataframe tbody tr th:only-of-type {\n",
       "        vertical-align: middle;\n",
       "    }\n",
       "\n",
       "    .dataframe tbody tr th {\n",
       "        vertical-align: top;\n",
       "    }\n",
       "\n",
       "    .dataframe thead th {\n",
       "        text-align: right;\n",
       "    }\n",
       "</style>\n",
       "<table border=\"1\" class=\"dataframe\">\n",
       "  <thead>\n",
       "    <tr style=\"text-align: right;\">\n",
       "      <th></th>\n",
       "      <th>Category</th>\n",
       "      <th>Price</th>\n",
       "    </tr>\n",
       "  </thead>\n",
       "  <tbody>\n",
       "    <tr>\n",
       "      <th>0</th>\n",
       "      <td>Extra</td>\n",
       "      <td>16329</td>\n",
       "    </tr>\n",
       "    <tr>\n",
       "      <th>1</th>\n",
       "      <td>Main Meals</td>\n",
       "      <td>24590</td>\n",
       "    </tr>\n",
       "    <tr>\n",
       "      <th>2</th>\n",
       "      <td>Other</td>\n",
       "      <td>29175</td>\n",
       "    </tr>\n",
       "  </tbody>\n",
       "</table>\n",
       "</div>"
      ],
      "text/plain": [
       "     Category  Price\n",
       "0       Extra  16329\n",
       "1  Main Meals  24590\n",
       "2       Other  29175"
      ]
     },
     "execution_count": 34,
     "metadata": {},
     "output_type": "execute_result"
    }
   ],
   "source": [
    "categories = detailed_new.groupby('Category')['Price'].sum().reset_index()\n",
    "categories"
   ]
  },
  {
   "cell_type": "code",
   "execution_count": 35,
   "id": "addad2e7",
   "metadata": {},
   "outputs": [
    {
     "data": {
      "image/png": "[encoded data removed]",
      "text/plain": [
       "<Figure size 432x288 with 1 Axes>"
      ]
     },
     "metadata": {},
     "output_type": "display_data"
    }
   ],
   "source": [
    "plt.pie(categories['Price'], labels=categories['Category'])\n",
    "my_circle=plt.Circle( (0,0), 0.7, color='white')\n",
    "p=plt.gcf()\n",
    "p.gca().add_artist(my_circle)\n",
    "\n",
    "plt.show()"
   ]
  },
  {
   "cell_type": "code",
   "execution_count": 36,
   "id": "fb0625ae",
   "metadata": {},
   "outputs": [
    {
     "data": {
      "image/png": "[encoded data removed]",
      "text/plain": [
       "<Figure size 432x288 with 1 Axes>"
      ]
     },
     "metadata": {
      "needs_background": "light"
     },
     "output_type": "display_data"
    }
   ],
   "source": [
    "# As we see, all three categories seem not be differ dramatically. Check it with barplot:\n",
    "# counts_cat = list(categories['index'])\n",
    "# categories_cat = list(categories['Category'])\n",
    "plt.bar(categories['Category'], categories['Price'], color='brown')\n",
    "plt.title('Total Expenses by Category', fontsize=14)\n",
    "plt.show()"
   ]
  },
  {
   "cell_type": "markdown",
   "id": "6e51240f",
   "metadata": {},
   "source": [
    "#### Detailed look at the Extra category\n",
    "This category, despite its name, is quite large. A possible reason is that four out five most expensive items (see the items_summed table above) are from this category. <br> \n",
    "Let's take a look at what percentage coffee makes up in Extra."
   ]
  },
  {
   "cell_type": "code",
   "execution_count": 37,
   "id": "58096d8b",
   "metadata": {},
   "outputs": [
    {
     "name": "stdout",
     "output_type": "stream",
     "text": [
      "49.17018800906363\n"
     ]
    }
   ],
   "source": [
    "coffee_sum_detailed = np.sum(detailed_new.loc[detailed_new['Item'].str.contains('Coffee')].Price)\n",
    "extra_prices = detailed_new.loc[detailed_new['Category'] == 'Extra'].Price\n",
    "print(coffee_sum_detailed / np.sum(extra_prices) * 100)"
   ]
  },
  {
   "cell_type": "markdown",
   "id": "409ab971",
   "metadata": {},
   "source": [
    "Coffee takes up almost half of all expenses in the Extra category. <br> Finally, let's check if all the products in it cost more on average."
   ]
  },
  {
   "cell_type": "code",
   "execution_count": 38,
   "id": "26623c72",
   "metadata": {},
   "outputs": [
    {
     "data": {
      "image/png": "[encoded data removed]",
      "text/plain": [
       "<Figure size 432x288 with 1 Axes>"
      ]
     },
     "metadata": {
      "needs_background": "light"
     },
     "output_type": "display_data"
    }
   ],
   "source": [
    "sns.boxplot(data=detailed_new, x='Category', y='Price', showfliers=False)\n",
    "plt.show()"
   ]
  },
  {
   "cell_type": "markdown",
   "id": "4970e1b2",
   "metadata": {},
   "source": [
    "Since the Price data is not normally distributed (but right-skewed), run the Kruskal-Wallis H-test to check if the medians of all three categories are from the same population "
   ]
  },
  {
   "cell_type": "code",
   "execution_count": 39,
   "id": "6fff1068",
   "metadata": {},
   "outputs": [
    {
     "name": "stdout",
     "output_type": "stream",
     "text": [
      "0.7095417875569991\n"
     ]
    }
   ],
   "source": [
    "other_prices = detailed_new.loc[detailed_new['Category'] == 'Other'].Price\n",
    "meal_prices = detailed_new.loc[detailed_new['Category'] == 'Main Meals'].Price\n",
    "pval = stats.kruskal(extra_prices, other_prices, meal_prices)[1]\n",
    "print(pval)"
   ]
  },
  {
   "cell_type": "markdown",
   "id": "8c884e2a",
   "metadata": {},
   "source": [
    "Since the p-value is 0.71, we fail to reject the hypothesis that the Extra category prices were higher than those from two other categories.<br>\n",
    "Note: the average prices in three categories are 154, 145, and 151."
   ]
  },
  {
   "cell_type": "markdown",
   "id": "653a750c",
   "metadata": {},
   "source": [
    "# Conclusion"
   ]
  },
  {
   "attachments": {},
   "cell_type": "markdown",
   "id": "d8975221",
   "metadata": {},
   "source": [
    "### Data processing\n",
    "- Mismatched columns were detected and fixed.  \n",
    "\n",
    "- The detailed table was reshaped and split into categories and prices with pd.melt.\n",
    "\n",
    "- Split the prices and items columns by corresponding delimiters in these two data subsets with df.apply, df.stack and regex. Then they were merged back.\n",
    "\n",
    "### Key findings\n",
    "1. The average purchase cost is around 150. But this value is heavily influenced by outliers (e.g. the biggest purchase was 1748). The median is 105, which suggests that most of the spending were much lower than 150.\n",
    "\n",
    "2. The most common item I bought for the two months of keeping the table was coffee (no surprise, as half of this project was dedicated to this very product). Desserts for coffee take up the third position. Transportation is number two and four (subway/buses and taxis).\n",
    "\n",
    "3. 'Other' (necessary items excluding food) is the most common category.\n",
    "\n",
    "4. Coffee makes up 49% of all the spending in the Extra category and this is the most expensive item in the dataset. It explains the big size of this category.<br>\n",
    "The hypothesis that products from the Extra category are more expensive on average was couldn't be rejected."
   ]
  }
 ],
 "metadata": {
  "kernelspec": {
   "display_name": "Python 3 (ipykernel)",
   "language": "python",
   "name": "python3"
  },
  "language_info": {
   "codemirror_mode": {
    "name": "ipython",
    "version": 3
   },
   "file_extension": ".py",
   "mimetype": "text/x-python",
   "name": "python",
   "nbconvert_exporter": "python",
   "pygments_lexer": "ipython3",
   "version": "3.9.12"
  },
  "vscode": {
   "interpreter": {
    "hash": "5a432072cc2c58630a02722e6501befcd0fb11c7ce049406e8c4d93496ffb6cd"
   }
  }
 },
 "nbformat": 4,
 "nbformat_minor": 5
}
